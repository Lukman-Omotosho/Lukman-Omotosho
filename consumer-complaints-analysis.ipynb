{
 "cells": [
  {
   "cell_type": "markdown",
   "id": "25d5bf8b",
   "metadata": {
    "papermill": {
     "duration": 0.01007,
     "end_time": "2024-09-10T10:57:47.604720",
     "exception": false,
     "start_time": "2024-09-10T10:57:47.594650",
     "status": "completed"
    },
    "tags": []
   },
   "source": [
    "## Introduction\n",
    "This analysis stems from a survey conducted on the issues faced by different bank customers. The survey was filled by customers of different banks. With this analysis, we wish to derive insights from the different issues faced by the customers and also establish relationships and trends from the data.\n",
    "\n",
    "## Preparing The Data and Other Requirements\n",
    "The dataset to be used was extracted from data.world website and it will be the basis for our analysis. Firstly let's load the libraries required for our analysis."
   ]
  },
  {
   "cell_type": "code",
   "execution_count": 1,
   "id": "e3691862",
   "metadata": {
    "execution": {
     "iopub.execute_input": "2024-09-10T10:57:47.625720Z",
     "iopub.status.busy": "2024-09-10T10:57:47.625048Z",
     "iopub.status.idle": "2024-09-10T10:57:49.665465Z",
     "shell.execute_reply": "2024-09-10T10:57:49.664394Z"
    },
    "papermill": {
     "duration": 2.053588,
     "end_time": "2024-09-10T10:57:49.667894",
     "exception": false,
     "start_time": "2024-09-10T10:57:47.614306",
     "status": "completed"
    },
    "tags": []
   },
   "outputs": [],
   "source": [
    "import pandas as pd\n",
    "import numpy as np\n",
    "import matplotlib.pyplot as plt\n",
    "import seaborn as sns\n"
   ]
  },
  {
   "cell_type": "markdown",
   "id": "3b1f1186",
   "metadata": {
    "papermill": {
     "duration": 0.009417,
     "end_time": "2024-09-10T10:57:49.687227",
     "exception": false,
     "start_time": "2024-09-10T10:57:49.677810",
     "status": "completed"
    },
    "tags": []
   },
   "source": [
    "The next thing is to load the dataset required for the analysis."
   ]
  },
  {
   "cell_type": "code",
   "execution_count": 2,
   "id": "73200e39",
   "metadata": {
    "execution": {
     "iopub.execute_input": "2024-09-10T10:57:49.707688Z",
     "iopub.status.busy": "2024-09-10T10:57:49.707188Z",
     "iopub.status.idle": "2024-09-10T10:57:50.151196Z",
     "shell.execute_reply": "2024-09-10T10:57:50.149995Z"
    },
    "papermill": {
     "duration": 0.457223,
     "end_time": "2024-09-10T10:57:50.153780",
     "exception": false,
     "start_time": "2024-09-10T10:57:49.696557",
     "status": "completed"
    },
    "tags": []
   },
   "outputs": [
    {
     "name": "stderr",
     "output_type": "stream",
     "text": [
      "/tmp/ipykernel_18/3785490344.py:1: DtypeWarning: Columns (5,11) have mixed types. Specify dtype option on import or set low_memory=False.\n",
      "  df = pd.read_csv('/kaggle/input/consumer-complaints-data/P9-ConsumerComplaints.csv')\n"
     ]
    }
   ],
   "source": [
    "df = pd.read_csv('/kaggle/input/consumer-complaints-data/P9-ConsumerComplaints.csv')"
   ]
  },
  {
   "cell_type": "markdown",
   "id": "44e5dd33",
   "metadata": {
    "papermill": {
     "duration": 0.00932,
     "end_time": "2024-09-10T10:57:50.175098",
     "exception": false,
     "start_time": "2024-09-10T10:57:50.165778",
     "status": "completed"
    },
    "tags": []
   },
   "source": [
    "## About The Dataset\n",
    "The code below will give us some information about the dataset."
   ]
  },
  {
   "cell_type": "code",
   "execution_count": 3,
   "id": "0429cec6",
   "metadata": {
    "execution": {
     "iopub.execute_input": "2024-09-10T10:57:50.195979Z",
     "iopub.status.busy": "2024-09-10T10:57:50.195613Z",
     "iopub.status.idle": "2024-09-10T10:57:50.272497Z",
     "shell.execute_reply": "2024-09-10T10:57:50.271450Z"
    },
    "papermill": {
     "duration": 0.090202,
     "end_time": "2024-09-10T10:57:50.274944",
     "exception": false,
     "start_time": "2024-09-10T10:57:50.184742",
     "status": "completed"
    },
    "tags": []
   },
   "outputs": [
    {
     "name": "stdout",
     "output_type": "stream",
     "text": [
      "<class 'pandas.core.frame.DataFrame'>\n",
      "RangeIndex: 65499 entries, 0 to 65498\n",
      "Data columns (total 18 columns):\n",
      " #   Column                        Non-Null Count  Dtype \n",
      "---  ------                        --------------  ----- \n",
      " 0   Date Received                 65499 non-null  object\n",
      " 1   Product Name                  65499 non-null  object\n",
      " 2   Sub Product                   46935 non-null  object\n",
      " 3   Issue                         65499 non-null  object\n",
      " 4   Sub Issue                     30658 non-null  object\n",
      " 5   Consumer Complaint Narrative  2614 non-null   object\n",
      " 6   Company Public Response       2450 non-null   object\n",
      " 7   Company                       65499 non-null  object\n",
      " 8   State Name                    65021 non-null  object\n",
      " 9   Zip Code                      65021 non-null  object\n",
      " 10  Tags                          9681 non-null   object\n",
      " 11  Consumer Consent Provided     4760 non-null   object\n",
      " 12  Submitted via                 65499 non-null  object\n",
      " 13  Date Sent to Company          65499 non-null  object\n",
      " 14  Company Response to Consumer  65499 non-null  object\n",
      " 15  Timely Response               65499 non-null  object\n",
      " 16  Consumer Disputed             64391 non-null  object\n",
      " 17  Complaint ID                  65499 non-null  int64 \n",
      "dtypes: int64(1), object(17)\n",
      "memory usage: 9.0+ MB\n"
     ]
    }
   ],
   "source": [
    "df.info()"
   ]
  },
  {
   "cell_type": "markdown",
   "id": "0ab8a072",
   "metadata": {
    "papermill": {
     "duration": 0.00985,
     "end_time": "2024-09-10T10:57:50.294591",
     "exception": false,
     "start_time": "2024-09-10T10:57:50.284741",
     "status": "completed"
    },
    "tags": []
   },
   "source": [
    "So our dataset comprises of 18 columns and 64599 rows. 17 columns have the object datatype while 1 column is of type integer.\n",
    "\n",
    "Let's familiarise ourselves with the column names:\n",
    "\n",
    "* Date received - The date the issue was encountered by the customer.\n",
    "* Product Name - The type of product related with the issue.\n",
    "* Sub Product - This is giving us more specific details about the product on which the issue was encountered.\n",
    "* Issue - The problem encountered by the customer.\n",
    "* Sub Issue - More details on the issue encountered.\n",
    "* Consumer Complaint Narrative - Narration of the complaints made by the customer.\n",
    "* Company Public Response - The response given by the company on receiving the complaint.\n",
    "* Company - The name of the company.\n",
    "* State Name - The state the complaint was made.\n",
    "* Zip Code - The customer's zip code.\n",
    "* Tags - Whether older American or service member.\n",
    "* Consumer Consent Provided - Whether consent was provided or not by the consumer.\n",
    "* Submitted via - How the complaint was submitted.\n",
    "* Date Sent to Company - The date the complaint was sent to the company.\n",
    "* Company Response to Customer - How the company responded to the customer.\n",
    "* Timely Response - Whether the company responded timely or not.\n",
    "* Consumer Disputed - Whether consumer disputed or not.\n",
    "* Complaint ID - The specific identification number for each complaints.\n",
    "\n",
    "\n",
    "\n",
    "We'll see if there is any cleaning or processing required before analyzing the data but let's first view the first five rows the dataset."
   ]
  },
  {
   "cell_type": "code",
   "execution_count": 4,
   "id": "1a0c7e69",
   "metadata": {
    "execution": {
     "iopub.execute_input": "2024-09-10T10:57:50.315474Z",
     "iopub.status.busy": "2024-09-10T10:57:50.315095Z",
     "iopub.status.idle": "2024-09-10T10:57:50.337610Z",
     "shell.execute_reply": "2024-09-10T10:57:50.336536Z"
    },
    "papermill": {
     "duration": 0.035802,
     "end_time": "2024-09-10T10:57:50.340005",
     "exception": false,
     "start_time": "2024-09-10T10:57:50.304203",
     "status": "completed"
    },
    "tags": []
   },
   "outputs": [
    {
     "data": {
      "text/html": [
       "<div>\n",
       "<style scoped>\n",
       "    .dataframe tbody tr th:only-of-type {\n",
       "        vertical-align: middle;\n",
       "    }\n",
       "\n",
       "    .dataframe tbody tr th {\n",
       "        vertical-align: top;\n",
       "    }\n",
       "\n",
       "    .dataframe thead th {\n",
       "        text-align: right;\n",
       "    }\n",
       "</style>\n",
       "<table border=\"1\" class=\"dataframe\">\n",
       "  <thead>\n",
       "    <tr style=\"text-align: right;\">\n",
       "      <th></th>\n",
       "      <th>Date Received</th>\n",
       "      <th>Product Name</th>\n",
       "      <th>Sub Product</th>\n",
       "      <th>Issue</th>\n",
       "      <th>Sub Issue</th>\n",
       "      <th>Consumer Complaint Narrative</th>\n",
       "      <th>Company Public Response</th>\n",
       "      <th>Company</th>\n",
       "      <th>State Name</th>\n",
       "      <th>Zip Code</th>\n",
       "      <th>Tags</th>\n",
       "      <th>Consumer Consent Provided</th>\n",
       "      <th>Submitted via</th>\n",
       "      <th>Date Sent to Company</th>\n",
       "      <th>Company Response to Consumer</th>\n",
       "      <th>Timely Response</th>\n",
       "      <th>Consumer Disputed</th>\n",
       "      <th>Complaint ID</th>\n",
       "    </tr>\n",
       "  </thead>\n",
       "  <tbody>\n",
       "    <tr>\n",
       "      <th>0</th>\n",
       "      <td>2013-07-29</td>\n",
       "      <td>Consumer Loan</td>\n",
       "      <td>Vehicle loan</td>\n",
       "      <td>Managing the loan or lease</td>\n",
       "      <td>NaN</td>\n",
       "      <td>NaN</td>\n",
       "      <td>NaN</td>\n",
       "      <td>Wells Fargo &amp; Company</td>\n",
       "      <td>VA</td>\n",
       "      <td>24540</td>\n",
       "      <td>NaN</td>\n",
       "      <td>NaN</td>\n",
       "      <td>Phone</td>\n",
       "      <td>2013-07-30</td>\n",
       "      <td>Closed with explanation</td>\n",
       "      <td>Yes</td>\n",
       "      <td>No</td>\n",
       "      <td>468882</td>\n",
       "    </tr>\n",
       "    <tr>\n",
       "      <th>1</th>\n",
       "      <td>2013-07-29</td>\n",
       "      <td>Bank account or service</td>\n",
       "      <td>Checking account</td>\n",
       "      <td>Using a debit or ATM card</td>\n",
       "      <td>NaN</td>\n",
       "      <td>NaN</td>\n",
       "      <td>NaN</td>\n",
       "      <td>Wells Fargo &amp; Company</td>\n",
       "      <td>CA</td>\n",
       "      <td>95992</td>\n",
       "      <td>Older American</td>\n",
       "      <td>NaN</td>\n",
       "      <td>Web</td>\n",
       "      <td>2013-07-31</td>\n",
       "      <td>Closed with explanation</td>\n",
       "      <td>Yes</td>\n",
       "      <td>No</td>\n",
       "      <td>468889</td>\n",
       "    </tr>\n",
       "    <tr>\n",
       "      <th>2</th>\n",
       "      <td>2013-07-29</td>\n",
       "      <td>Bank account or service</td>\n",
       "      <td>Checking account</td>\n",
       "      <td>Account opening, closing, or management</td>\n",
       "      <td>NaN</td>\n",
       "      <td>NaN</td>\n",
       "      <td>NaN</td>\n",
       "      <td>Santander Bank US</td>\n",
       "      <td>NY</td>\n",
       "      <td>10065</td>\n",
       "      <td>NaN</td>\n",
       "      <td>NaN</td>\n",
       "      <td>Fax</td>\n",
       "      <td>2013-07-31</td>\n",
       "      <td>Closed</td>\n",
       "      <td>Yes</td>\n",
       "      <td>No</td>\n",
       "      <td>468879</td>\n",
       "    </tr>\n",
       "    <tr>\n",
       "      <th>3</th>\n",
       "      <td>2013-07-29</td>\n",
       "      <td>Bank account or service</td>\n",
       "      <td>Checking account</td>\n",
       "      <td>Deposits and withdrawals</td>\n",
       "      <td>NaN</td>\n",
       "      <td>NaN</td>\n",
       "      <td>NaN</td>\n",
       "      <td>Wells Fargo &amp; Company</td>\n",
       "      <td>GA</td>\n",
       "      <td>30084</td>\n",
       "      <td>NaN</td>\n",
       "      <td>NaN</td>\n",
       "      <td>Web</td>\n",
       "      <td>2013-07-30</td>\n",
       "      <td>Closed with explanation</td>\n",
       "      <td>Yes</td>\n",
       "      <td>No</td>\n",
       "      <td>468949</td>\n",
       "    </tr>\n",
       "    <tr>\n",
       "      <th>4</th>\n",
       "      <td>2013-07-29</td>\n",
       "      <td>Mortgage</td>\n",
       "      <td>Conventional fixed mortgage</td>\n",
       "      <td>Loan servicing, payments, escrow account</td>\n",
       "      <td>NaN</td>\n",
       "      <td>NaN</td>\n",
       "      <td>NaN</td>\n",
       "      <td>Franklin Credit Management</td>\n",
       "      <td>CT</td>\n",
       "      <td>6106</td>\n",
       "      <td>NaN</td>\n",
       "      <td>NaN</td>\n",
       "      <td>Web</td>\n",
       "      <td>2013-07-30</td>\n",
       "      <td>Closed with explanation</td>\n",
       "      <td>Yes</td>\n",
       "      <td>No</td>\n",
       "      <td>475823</td>\n",
       "    </tr>\n",
       "  </tbody>\n",
       "</table>\n",
       "</div>"
      ],
      "text/plain": [
       "  Date Received             Product Name                  Sub Product  \\\n",
       "0    2013-07-29            Consumer Loan                 Vehicle loan   \n",
       "1    2013-07-29  Bank account or service             Checking account   \n",
       "2    2013-07-29  Bank account or service             Checking account   \n",
       "3    2013-07-29  Bank account or service             Checking account   \n",
       "4    2013-07-29                 Mortgage  Conventional fixed mortgage   \n",
       "\n",
       "                                      Issue Sub Issue  \\\n",
       "0                Managing the loan or lease       NaN   \n",
       "1                 Using a debit or ATM card       NaN   \n",
       "2   Account opening, closing, or management       NaN   \n",
       "3                  Deposits and withdrawals       NaN   \n",
       "4  Loan servicing, payments, escrow account       NaN   \n",
       "\n",
       "  Consumer Complaint Narrative Company Public Response  \\\n",
       "0                          NaN                     NaN   \n",
       "1                          NaN                     NaN   \n",
       "2                          NaN                     NaN   \n",
       "3                          NaN                     NaN   \n",
       "4                          NaN                     NaN   \n",
       "\n",
       "                      Company State Name Zip Code            Tags  \\\n",
       "0       Wells Fargo & Company         VA    24540             NaN   \n",
       "1       Wells Fargo & Company         CA    95992  Older American   \n",
       "2           Santander Bank US         NY    10065             NaN   \n",
       "3       Wells Fargo & Company         GA    30084             NaN   \n",
       "4  Franklin Credit Management         CT     6106             NaN   \n",
       "\n",
       "  Consumer Consent Provided Submitted via Date Sent to Company  \\\n",
       "0                       NaN         Phone           2013-07-30   \n",
       "1                       NaN           Web           2013-07-31   \n",
       "2                       NaN           Fax           2013-07-31   \n",
       "3                       NaN           Web           2013-07-30   \n",
       "4                       NaN           Web           2013-07-30   \n",
       "\n",
       "  Company Response to Consumer Timely Response Consumer Disputed  Complaint ID  \n",
       "0      Closed with explanation             Yes                No        468882  \n",
       "1      Closed with explanation             Yes                No        468889  \n",
       "2                       Closed             Yes                No        468879  \n",
       "3      Closed with explanation             Yes                No        468949  \n",
       "4      Closed with explanation             Yes                No        475823  "
      ]
     },
     "execution_count": 4,
     "metadata": {},
     "output_type": "execute_result"
    }
   ],
   "source": [
    "df.head()"
   ]
  },
  {
   "cell_type": "markdown",
   "id": "6bc4d2cd",
   "metadata": {
    "papermill": {
     "duration": 0.010068,
     "end_time": "2024-09-10T10:57:50.360272",
     "exception": false,
     "start_time": "2024-09-10T10:57:50.350204",
     "status": "completed"
    },
    "tags": []
   },
   "source": [
    "## Data Processing\n",
    "Let's check the amount of null values we have in each column."
   ]
  },
  {
   "cell_type": "code",
   "execution_count": 5,
   "id": "2d073e79",
   "metadata": {
    "execution": {
     "iopub.execute_input": "2024-09-10T10:57:50.382616Z",
     "iopub.status.busy": "2024-09-10T10:57:50.382245Z",
     "iopub.status.idle": "2024-09-10T10:57:50.436974Z",
     "shell.execute_reply": "2024-09-10T10:57:50.435903Z"
    },
    "papermill": {
     "duration": 0.068787,
     "end_time": "2024-09-10T10:57:50.439233",
     "exception": false,
     "start_time": "2024-09-10T10:57:50.370446",
     "status": "completed"
    },
    "tags": []
   },
   "outputs": [
    {
     "data": {
      "text/plain": [
       "Date Received                       0\n",
       "Product Name                        0\n",
       "Sub Product                     18564\n",
       "Issue                               0\n",
       "Sub Issue                       34841\n",
       "Consumer Complaint Narrative    62885\n",
       "Company Public Response         63049\n",
       "Company                             0\n",
       "State Name                        478\n",
       "Zip Code                          478\n",
       "Tags                            55818\n",
       "Consumer Consent Provided       60739\n",
       "Submitted via                       0\n",
       "Date Sent to Company                0\n",
       "Company Response to Consumer        0\n",
       "Timely Response                     0\n",
       "Consumer Disputed                1108\n",
       "Complaint ID                        0\n",
       "dtype: int64"
      ]
     },
     "execution_count": 5,
     "metadata": {},
     "output_type": "execute_result"
    }
   ],
   "source": [
    "na_values = df.isnull().sum()\n",
    "na_values"
   ]
  },
  {
   "cell_type": "markdown",
   "id": "50af0ddc",
   "metadata": {
    "papermill": {
     "duration": 0.0102,
     "end_time": "2024-09-10T10:57:50.459864",
     "exception": false,
     "start_time": "2024-09-10T10:57:50.449664",
     "status": "completed"
    },
    "tags": []
   },
   "source": [
    "It can be seen that respondents neglected some peculiar parts of the survey, which probably means they didn't feel comfortable filling that part or they had no response to give such as in the 'Company Public Response' and 'Consumer Complaint Narrative'. \n",
    "We'll be deleting columns which are majorly filled with null values to make our data look better.\n"
   ]
  },
  {
   "cell_type": "code",
   "execution_count": 6,
   "id": "a97c52bf",
   "metadata": {
    "execution": {
     "iopub.execute_input": "2024-09-10T10:57:50.482659Z",
     "iopub.status.busy": "2024-09-10T10:57:50.482263Z",
     "iopub.status.idle": "2024-09-10T10:57:50.512071Z",
     "shell.execute_reply": "2024-09-10T10:57:50.511099Z"
    },
    "papermill": {
     "duration": 0.044098,
     "end_time": "2024-09-10T10:57:50.514351",
     "exception": false,
     "start_time": "2024-09-10T10:57:50.470253",
     "status": "completed"
    },
    "tags": []
   },
   "outputs": [
    {
     "data": {
      "text/html": [
       "<div>\n",
       "<style scoped>\n",
       "    .dataframe tbody tr th:only-of-type {\n",
       "        vertical-align: middle;\n",
       "    }\n",
       "\n",
       "    .dataframe tbody tr th {\n",
       "        vertical-align: top;\n",
       "    }\n",
       "\n",
       "    .dataframe thead th {\n",
       "        text-align: right;\n",
       "    }\n",
       "</style>\n",
       "<table border=\"1\" class=\"dataframe\">\n",
       "  <thead>\n",
       "    <tr style=\"text-align: right;\">\n",
       "      <th></th>\n",
       "      <th>Date Received</th>\n",
       "      <th>Product Name</th>\n",
       "      <th>Sub Product</th>\n",
       "      <th>Issue</th>\n",
       "      <th>Company</th>\n",
       "      <th>State Name</th>\n",
       "      <th>Zip Code</th>\n",
       "      <th>Submitted via</th>\n",
       "      <th>Date Sent to Company</th>\n",
       "      <th>Company Response to Consumer</th>\n",
       "      <th>Timely Response</th>\n",
       "      <th>Consumer Disputed</th>\n",
       "      <th>Complaint ID</th>\n",
       "    </tr>\n",
       "  </thead>\n",
       "  <tbody>\n",
       "    <tr>\n",
       "      <th>0</th>\n",
       "      <td>2013-07-29</td>\n",
       "      <td>Consumer Loan</td>\n",
       "      <td>Vehicle loan</td>\n",
       "      <td>Managing the loan or lease</td>\n",
       "      <td>Wells Fargo &amp; Company</td>\n",
       "      <td>VA</td>\n",
       "      <td>24540</td>\n",
       "      <td>Phone</td>\n",
       "      <td>2013-07-30</td>\n",
       "      <td>Closed with explanation</td>\n",
       "      <td>Yes</td>\n",
       "      <td>No</td>\n",
       "      <td>468882</td>\n",
       "    </tr>\n",
       "    <tr>\n",
       "      <th>1</th>\n",
       "      <td>2013-07-29</td>\n",
       "      <td>Bank account or service</td>\n",
       "      <td>Checking account</td>\n",
       "      <td>Using a debit or ATM card</td>\n",
       "      <td>Wells Fargo &amp; Company</td>\n",
       "      <td>CA</td>\n",
       "      <td>95992</td>\n",
       "      <td>Web</td>\n",
       "      <td>2013-07-31</td>\n",
       "      <td>Closed with explanation</td>\n",
       "      <td>Yes</td>\n",
       "      <td>No</td>\n",
       "      <td>468889</td>\n",
       "    </tr>\n",
       "    <tr>\n",
       "      <th>2</th>\n",
       "      <td>2013-07-29</td>\n",
       "      <td>Bank account or service</td>\n",
       "      <td>Checking account</td>\n",
       "      <td>Account opening, closing, or management</td>\n",
       "      <td>Santander Bank US</td>\n",
       "      <td>NY</td>\n",
       "      <td>10065</td>\n",
       "      <td>Fax</td>\n",
       "      <td>2013-07-31</td>\n",
       "      <td>Closed</td>\n",
       "      <td>Yes</td>\n",
       "      <td>No</td>\n",
       "      <td>468879</td>\n",
       "    </tr>\n",
       "    <tr>\n",
       "      <th>3</th>\n",
       "      <td>2013-07-29</td>\n",
       "      <td>Bank account or service</td>\n",
       "      <td>Checking account</td>\n",
       "      <td>Deposits and withdrawals</td>\n",
       "      <td>Wells Fargo &amp; Company</td>\n",
       "      <td>GA</td>\n",
       "      <td>30084</td>\n",
       "      <td>Web</td>\n",
       "      <td>2013-07-30</td>\n",
       "      <td>Closed with explanation</td>\n",
       "      <td>Yes</td>\n",
       "      <td>No</td>\n",
       "      <td>468949</td>\n",
       "    </tr>\n",
       "    <tr>\n",
       "      <th>4</th>\n",
       "      <td>2013-07-29</td>\n",
       "      <td>Mortgage</td>\n",
       "      <td>Conventional fixed mortgage</td>\n",
       "      <td>Loan servicing, payments, escrow account</td>\n",
       "      <td>Franklin Credit Management</td>\n",
       "      <td>CT</td>\n",
       "      <td>6106</td>\n",
       "      <td>Web</td>\n",
       "      <td>2013-07-30</td>\n",
       "      <td>Closed with explanation</td>\n",
       "      <td>Yes</td>\n",
       "      <td>No</td>\n",
       "      <td>475823</td>\n",
       "    </tr>\n",
       "  </tbody>\n",
       "</table>\n",
       "</div>"
      ],
      "text/plain": [
       "  Date Received             Product Name                  Sub Product  \\\n",
       "0    2013-07-29            Consumer Loan                 Vehicle loan   \n",
       "1    2013-07-29  Bank account or service             Checking account   \n",
       "2    2013-07-29  Bank account or service             Checking account   \n",
       "3    2013-07-29  Bank account or service             Checking account   \n",
       "4    2013-07-29                 Mortgage  Conventional fixed mortgage   \n",
       "\n",
       "                                      Issue                     Company  \\\n",
       "0                Managing the loan or lease       Wells Fargo & Company   \n",
       "1                 Using a debit or ATM card       Wells Fargo & Company   \n",
       "2   Account opening, closing, or management           Santander Bank US   \n",
       "3                  Deposits and withdrawals       Wells Fargo & Company   \n",
       "4  Loan servicing, payments, escrow account  Franklin Credit Management   \n",
       "\n",
       "  State Name Zip Code Submitted via Date Sent to Company  \\\n",
       "0         VA    24540         Phone           2013-07-30   \n",
       "1         CA    95992           Web           2013-07-31   \n",
       "2         NY    10065           Fax           2013-07-31   \n",
       "3         GA    30084           Web           2013-07-30   \n",
       "4         CT     6106           Web           2013-07-30   \n",
       "\n",
       "  Company Response to Consumer Timely Response Consumer Disputed  Complaint ID  \n",
       "0      Closed with explanation             Yes                No        468882  \n",
       "1      Closed with explanation             Yes                No        468889  \n",
       "2                       Closed             Yes                No        468879  \n",
       "3      Closed with explanation             Yes                No        468949  \n",
       "4      Closed with explanation             Yes                No        475823  "
      ]
     },
     "execution_count": 6,
     "metadata": {},
     "output_type": "execute_result"
    }
   ],
   "source": [
    "df = df.drop(['Consumer Complaint Narrative', 'Company Public Response', 'Tags', 'Consumer Consent Provided','Sub Issue'], axis = 1)\n",
    "df.head()"
   ]
  },
  {
   "cell_type": "code",
   "execution_count": 7,
   "id": "e5f7c10f",
   "metadata": {
    "execution": {
     "iopub.execute_input": "2024-09-10T10:57:50.537185Z",
     "iopub.status.busy": "2024-09-10T10:57:50.536795Z",
     "iopub.status.idle": "2024-09-10T10:57:50.580668Z",
     "shell.execute_reply": "2024-09-10T10:57:50.579681Z"
    },
    "papermill": {
     "duration": 0.057813,
     "end_time": "2024-09-10T10:57:50.582713",
     "exception": false,
     "start_time": "2024-09-10T10:57:50.524900",
     "status": "completed"
    },
    "tags": []
   },
   "outputs": [
    {
     "data": {
      "text/plain": [
       "Date Received                       0\n",
       "Product Name                        0\n",
       "Sub Product                     18564\n",
       "Issue                               0\n",
       "Company                             0\n",
       "State Name                        478\n",
       "Zip Code                          478\n",
       "Submitted via                       0\n",
       "Date Sent to Company                0\n",
       "Company Response to Consumer        0\n",
       "Timely Response                     0\n",
       "Consumer Disputed                1108\n",
       "Complaint ID                        0\n",
       "dtype: int64"
      ]
     },
     "execution_count": 7,
     "metadata": {},
     "output_type": "execute_result"
    }
   ],
   "source": [
    "df.isnull().sum()"
   ]
  },
  {
   "cell_type": "markdown",
   "id": "d58f8c67",
   "metadata": {
    "papermill": {
     "duration": 0.011178,
     "end_time": "2024-09-10T10:57:50.604871",
     "exception": false,
     "start_time": "2024-09-10T10:57:50.593693",
     "status": "completed"
    },
    "tags": []
   },
   "source": [
    "Let's delete the other rows containing null values"
   ]
  },
  {
   "cell_type": "code",
   "execution_count": 8,
   "id": "7a5170f5",
   "metadata": {
    "execution": {
     "iopub.execute_input": "2024-09-10T10:57:50.628246Z",
     "iopub.status.busy": "2024-09-10T10:57:50.627873Z",
     "iopub.status.idle": "2024-09-10T10:57:50.708796Z",
     "shell.execute_reply": "2024-09-10T10:57:50.707544Z"
    },
    "papermill": {
     "duration": 0.095025,
     "end_time": "2024-09-10T10:57:50.711161",
     "exception": false,
     "start_time": "2024-09-10T10:57:50.616136",
     "status": "completed"
    },
    "tags": []
   },
   "outputs": [
    {
     "data": {
      "text/plain": [
       "Date Received                   0\n",
       "Product Name                    0\n",
       "Sub Product                     0\n",
       "Issue                           0\n",
       "Company                         0\n",
       "State Name                      0\n",
       "Zip Code                        0\n",
       "Submitted via                   0\n",
       "Date Sent to Company            0\n",
       "Company Response to Consumer    0\n",
       "Timely Response                 0\n",
       "Consumer Disputed               0\n",
       "Complaint ID                    0\n",
       "dtype: int64"
      ]
     },
     "execution_count": 8,
     "metadata": {},
     "output_type": "execute_result"
    }
   ],
   "source": [
    "df = df.dropna()\n",
    "df.isnull().sum()"
   ]
  },
  {
   "cell_type": "markdown",
   "id": "0a5f1215",
   "metadata": {
    "papermill": {
     "duration": 0.010411,
     "end_time": "2024-09-10T10:57:50.732303",
     "exception": false,
     "start_time": "2024-09-10T10:57:50.721892",
     "status": "completed"
    },
    "tags": []
   },
   "source": [
    "Good, our data is free of null values. Let's check the number of columns and rows after the null values have been deleted."
   ]
  },
  {
   "cell_type": "code",
   "execution_count": 9,
   "id": "798f6138",
   "metadata": {
    "execution": {
     "iopub.execute_input": "2024-09-10T10:57:50.755006Z",
     "iopub.status.busy": "2024-09-10T10:57:50.754646Z",
     "iopub.status.idle": "2024-09-10T10:57:50.791230Z",
     "shell.execute_reply": "2024-09-10T10:57:50.790038Z"
    },
    "papermill": {
     "duration": 0.050425,
     "end_time": "2024-09-10T10:57:50.793303",
     "exception": false,
     "start_time": "2024-09-10T10:57:50.742878",
     "status": "completed"
    },
    "tags": []
   },
   "outputs": [
    {
     "name": "stdout",
     "output_type": "stream",
     "text": [
      "<class 'pandas.core.frame.DataFrame'>\n",
      "Index: 45945 entries, 0 to 65498\n",
      "Data columns (total 13 columns):\n",
      " #   Column                        Non-Null Count  Dtype \n",
      "---  ------                        --------------  ----- \n",
      " 0   Date Received                 45945 non-null  object\n",
      " 1   Product Name                  45945 non-null  object\n",
      " 2   Sub Product                   45945 non-null  object\n",
      " 3   Issue                         45945 non-null  object\n",
      " 4   Company                       45945 non-null  object\n",
      " 5   State Name                    45945 non-null  object\n",
      " 6   Zip Code                      45945 non-null  object\n",
      " 7   Submitted via                 45945 non-null  object\n",
      " 8   Date Sent to Company          45945 non-null  object\n",
      " 9   Company Response to Consumer  45945 non-null  object\n",
      " 10  Timely Response               45945 non-null  object\n",
      " 11  Consumer Disputed             45945 non-null  object\n",
      " 12  Complaint ID                  45945 non-null  int64 \n",
      "dtypes: int64(1), object(12)\n",
      "memory usage: 4.9+ MB\n"
     ]
    }
   ],
   "source": [
    "df.info()"
   ]
  },
  {
   "cell_type": "markdown",
   "id": "5a458fb9",
   "metadata": {
    "papermill": {
     "duration": 0.010417,
     "end_time": "2024-09-10T10:57:50.814716",
     "exception": false,
     "start_time": "2024-09-10T10:57:50.804299",
     "status": "completed"
    },
    "tags": []
   },
   "source": [
    "Not bad, we have 13 columns and 45945 rows. Let's find out if we have any duplicate rows in the data."
   ]
  },
  {
   "cell_type": "code",
   "execution_count": 10,
   "id": "6273e66f",
   "metadata": {
    "execution": {
     "iopub.execute_input": "2024-09-10T10:57:50.837782Z",
     "iopub.status.busy": "2024-09-10T10:57:50.837402Z",
     "iopub.status.idle": "2024-09-10T10:57:50.895836Z",
     "shell.execute_reply": "2024-09-10T10:57:50.894810Z"
    },
    "papermill": {
     "duration": 0.072728,
     "end_time": "2024-09-10T10:57:50.898200",
     "exception": false,
     "start_time": "2024-09-10T10:57:50.825472",
     "status": "completed"
    },
    "tags": []
   },
   "outputs": [
    {
     "data": {
      "text/plain": [
       "0"
      ]
     },
     "execution_count": 10,
     "metadata": {},
     "output_type": "execute_result"
    }
   ],
   "source": [
    "dup_rows = df.duplicated().sum()\n",
    "dup_rows"
   ]
  },
  {
   "cell_type": "markdown",
   "id": "94b98592",
   "metadata": {
    "papermill": {
     "duration": 0.010862,
     "end_time": "2024-09-10T10:57:50.920221",
     "exception": false,
     "start_time": "2024-09-10T10:57:50.909359",
     "status": "completed"
    },
    "tags": []
   },
   "source": [
    "There are no duplicates in the data so we can move to the main analysis.\n",
    "\n",
    "## Data Analysis\n",
    "\n",
    "### Issues encountered by customers"
   ]
  },
  {
   "cell_type": "code",
   "execution_count": 11,
   "id": "9ece1374",
   "metadata": {
    "execution": {
     "iopub.execute_input": "2024-09-10T10:57:50.943982Z",
     "iopub.status.busy": "2024-09-10T10:57:50.943612Z",
     "iopub.status.idle": "2024-09-10T10:57:50.956039Z",
     "shell.execute_reply": "2024-09-10T10:57:50.955037Z"
    },
    "papermill": {
     "duration": 0.02709,
     "end_time": "2024-09-10T10:57:50.958489",
     "exception": false,
     "start_time": "2024-09-10T10:57:50.931399",
     "status": "completed"
    },
    "tags": []
   },
   "outputs": [
    {
     "data": {
      "text/plain": [
       "Issue\n",
       "Loan modification,collection,foreclosure    9233\n",
       "Loan servicing, payments, escrow account    6634\n",
       "Cont'd attempts collect debt not owed       6593\n",
       "Communication tactics                       2896\n",
       "Account opening, closing, or management     2829\n",
       "Disclosure verification of debt             2697\n",
       "Deposits and withdrawals                    1732\n",
       "False statements or representation          1232\n",
       "Application, originator, mortgage broker    1228\n",
       "Improper contact or sharing of info         1197\n",
       "Managing the loan or lease                  1104\n",
       "Taking/threatening an illegal action         968\n",
       "Problems caused by my funds being low        831\n",
       "Dealing with my lender or servicer           815\n",
       "Settlement process and costs                 704\n",
       "Problems when you are unable to pay          651\n",
       "Can't repay my loan                          638\n",
       "Making/receiving payments, sending money     556\n",
       "Using a debit or ATM card                    461\n",
       "Credit decision / Underwriting               432\n",
       "Taking out the loan or lease                 337\n",
       "Charged fees or interest I didn't expect     299\n",
       "Other                                        275\n",
       "Fraud or scam                                241\n",
       "Repaying your loan                           229\n",
       "Shopping for a loan or lease                 141\n",
       "Other transaction issues                     124\n",
       "Can't contact lender                          99\n",
       "Money was not available when promised         91\n",
       "Managing, opening, or closing account         66\n",
       "Received a loan I didn't apply for            57\n",
       "Unauthorized transactions/trans. issues       56\n",
       "Applied for loan/did not receive money        55\n",
       "Managing the line of credit                   54\n",
       "Getting a loan                                53\n",
       "Can't stop charges to bank account            50\n",
       "Payment to acct not credited                  45\n",
       "Other service issues                          43\n",
       "Account terms and changes                     38\n",
       "Charged bank acct wrong day or amt            25\n",
       "Shopping for a line of credit                 24\n",
       "Wrong amount charged or received              21\n",
       "Incorrect/missing disclosures or info         21\n",
       "Customer service/Customer relations           17\n",
       "Fees                                          12\n",
       "Unexpected/Other fees                          8\n",
       "Adding money                                   8\n",
       "Lender repossessed or sold the vehicle         6\n",
       "Disclosures                                    4\n",
       "Lender damaged or destroyed vehicle            3\n",
       "Advertising, marketing or disclosures          2\n",
       "Overdraft, savings or rewards features         2\n",
       "Incorrect exchange rate                        2\n",
       "Lost or stolen money order                     2\n",
       "Excessive fees                                 1\n",
       "Lost or stolen check                           1\n",
       "Lender sold the property                       1\n",
       "Advertising and marketing                      1\n",
       "Name: count, dtype: int64"
      ]
     },
     "execution_count": 11,
     "metadata": {},
     "output_type": "execute_result"
    }
   ],
   "source": [
    "df['Issue'].value_counts()"
   ]
  },
  {
   "cell_type": "markdown",
   "id": "cc65e656",
   "metadata": {
    "papermill": {
     "duration": 0.010956,
     "end_time": "2024-09-10T10:57:50.980588",
     "exception": false,
     "start_time": "2024-09-10T10:57:50.969632",
     "status": "completed"
    },
    "tags": []
   },
   "source": [
    "We can see that most customers had issues related to loans.\n",
    "\n",
    "### Number of complaints made on each product"
   ]
  },
  {
   "cell_type": "code",
   "execution_count": 12,
   "id": "4fb504f9",
   "metadata": {
    "execution": {
     "iopub.execute_input": "2024-09-10T10:57:51.004512Z",
     "iopub.status.busy": "2024-09-10T10:57:51.004137Z",
     "iopub.status.idle": "2024-09-10T10:57:51.015877Z",
     "shell.execute_reply": "2024-09-10T10:57:51.014789Z"
    },
    "papermill": {
     "duration": 0.02635,
     "end_time": "2024-09-10T10:57:51.018196",
     "exception": false,
     "start_time": "2024-09-10T10:57:50.991846",
     "status": "completed"
    },
    "tags": []
   },
   "outputs": [
    {
     "data": {
      "text/plain": [
       "Product Name\n",
       "Mortgage                   18506\n",
       "Debt collection            15583\n",
       "Bank account or service     6409\n",
       "Consumer Loan               2316\n",
       "Student loan                1811\n",
       "Payday loan                  597\n",
       "Money transfers              482\n",
       "Prepaid card                 187\n",
       "Other financial service       54\n",
       "Name: count, dtype: int64"
      ]
     },
     "execution_count": 12,
     "metadata": {},
     "output_type": "execute_result"
    }
   ],
   "source": [
    "df['Product Name'].value_counts()"
   ]
  },
  {
   "cell_type": "markdown",
   "id": "61d7983f",
   "metadata": {
    "papermill": {
     "duration": 0.011041,
     "end_time": "2024-09-10T10:57:51.040661",
     "exception": false,
     "start_time": "2024-09-10T10:57:51.029620",
     "status": "completed"
    },
    "tags": []
   },
   "source": [
    "### Number of compaints received by companies"
   ]
  },
  {
   "cell_type": "code",
   "execution_count": 13,
   "id": "b6d3de39",
   "metadata": {
    "execution": {
     "iopub.execute_input": "2024-09-10T10:57:51.122560Z",
     "iopub.status.busy": "2024-09-10T10:57:51.121588Z",
     "iopub.status.idle": "2024-09-10T10:57:51.134474Z",
     "shell.execute_reply": "2024-09-10T10:57:51.133378Z"
    },
    "papermill": {
     "duration": 0.084678,
     "end_time": "2024-09-10T10:57:51.136573",
     "exception": false,
     "start_time": "2024-09-10T10:57:51.051895",
     "status": "completed"
    },
    "tags": []
   },
   "outputs": [
    {
     "data": {
      "text/plain": [
       "Company\n",
       "Bank of America                           4070\n",
       "Wells Fargo & Company                     3712\n",
       "JPMorgan Chase & Co.                      2611\n",
       "Ocwen                                     2489\n",
       "Nationstar Mortgage                       1786\n",
       "                                          ... \n",
       "South Exchange Inc                           1\n",
       "Aqua Finance Inc                             1\n",
       "Cypress Collections                          1\n",
       "Schiller & Adam, P.A.                        1\n",
       "Advanced Call Center Technologies, LLC       1\n",
       "Name: count, Length: 1736, dtype: int64"
      ]
     },
     "execution_count": 13,
     "metadata": {},
     "output_type": "execute_result"
    }
   ],
   "source": [
    "df['Company'].value_counts()"
   ]
  },
  {
   "cell_type": "markdown",
   "id": "d4aeed1a",
   "metadata": {
    "papermill": {
     "duration": 0.01141,
     "end_time": "2024-09-10T10:57:51.159588",
     "exception": false,
     "start_time": "2024-09-10T10:57:51.148178",
     "status": "completed"
    },
    "tags": []
   },
   "source": [
    "### The state where most number of complaints emerged from"
   ]
  },
  {
   "cell_type": "code",
   "execution_count": 14,
   "id": "9d425c52",
   "metadata": {
    "execution": {
     "iopub.execute_input": "2024-09-10T10:57:51.185979Z",
     "iopub.status.busy": "2024-09-10T10:57:51.185000Z",
     "iopub.status.idle": "2024-09-10T10:57:51.196526Z",
     "shell.execute_reply": "2024-09-10T10:57:51.195452Z"
    },
    "papermill": {
     "duration": 0.02636,
     "end_time": "2024-09-10T10:57:51.198732",
     "exception": false,
     "start_time": "2024-09-10T10:57:51.172372",
     "status": "completed"
    },
    "tags": []
   },
   "outputs": [
    {
     "data": {
      "text/plain": [
       "'CA'"
      ]
     },
     "execution_count": 14,
     "metadata": {},
     "output_type": "execute_result"
    }
   ],
   "source": [
    "df['State Name'].value_counts().idxmax()"
   ]
  },
  {
   "cell_type": "markdown",
   "id": "18671214",
   "metadata": {
    "papermill": {
     "duration": 0.011121,
     "end_time": "2024-09-10T10:57:51.221505",
     "exception": false,
     "start_time": "2024-09-10T10:57:51.210384",
     "status": "completed"
    },
    "tags": []
   },
   "source": [
    "The most complaints emerged from california.\n",
    "\n",
    "### The company customers disputed most with"
   ]
  },
  {
   "cell_type": "code",
   "execution_count": 15,
   "id": "ad89c187",
   "metadata": {
    "execution": {
     "iopub.execute_input": "2024-09-10T10:57:51.246624Z",
     "iopub.status.busy": "2024-09-10T10:57:51.245556Z",
     "iopub.status.idle": "2024-09-10T10:57:51.274151Z",
     "shell.execute_reply": "2024-09-10T10:57:51.273117Z"
    },
    "papermill": {
     "duration": 0.043894,
     "end_time": "2024-09-10T10:57:51.276794",
     "exception": false,
     "start_time": "2024-09-10T10:57:51.232900",
     "status": "completed"
    },
    "tags": []
   },
   "outputs": [
    {
     "data": {
      "text/plain": [
       "('Bank of America', 'Yes')"
      ]
     },
     "execution_count": 15,
     "metadata": {},
     "output_type": "execute_result"
    }
   ],
   "source": [
    "dispute_df = df[['Company', 'Consumer Disputed']]\n",
    "dispute_df[dispute_df['Consumer Disputed']=='Yes'].groupby(['Company','Consumer Disputed']).value_counts().idxmax()"
   ]
  },
  {
   "cell_type": "markdown",
   "id": "747c75fe",
   "metadata": {
    "papermill": {
     "duration": 0.011265,
     "end_time": "2024-09-10T10:57:51.299579",
     "exception": false,
     "start_time": "2024-09-10T10:57:51.288314",
     "status": "completed"
    },
    "tags": []
   },
   "source": [
    "Customers disputed with Bank of America the most\n",
    "\n",
    "### Number of complaints received on each day of the week"
   ]
  },
  {
   "cell_type": "code",
   "execution_count": 16,
   "id": "bbaafca1",
   "metadata": {
    "execution": {
     "iopub.execute_input": "2024-09-10T10:57:51.325809Z",
     "iopub.status.busy": "2024-09-10T10:57:51.324844Z",
     "iopub.status.idle": "2024-09-10T10:57:51.364702Z",
     "shell.execute_reply": "2024-09-10T10:57:51.363624Z"
    },
    "papermill": {
     "duration": 0.055575,
     "end_time": "2024-09-10T10:57:51.366936",
     "exception": false,
     "start_time": "2024-09-10T10:57:51.311361",
     "status": "completed"
    },
    "tags": []
   },
   "outputs": [
    {
     "data": {
      "text/plain": [
       "Day of Date Received\n",
       "Thursday     8883\n",
       "Wednesday    8818\n",
       "Tuesday      8630\n",
       "Monday       7707\n",
       "Friday       7625\n",
       "Saturday     2555\n",
       "Sunday       1727\n",
       "Name: count, dtype: int64"
      ]
     },
     "execution_count": 16,
     "metadata": {},
     "output_type": "execute_result"
    }
   ],
   "source": [
    "df['Date Received'] = pd.to_datetime(df['Date Received'])\n",
    "df['Day of Date Received'] = df['Date Received'].dt.day_name()\n",
    "df['Day of Date Received'].value_counts()"
   ]
  },
  {
   "cell_type": "markdown",
   "id": "8e3238e1",
   "metadata": {
    "papermill": {
     "duration": 0.011617,
     "end_time": "2024-09-10T10:57:51.390367",
     "exception": false,
     "start_time": "2024-09-10T10:57:51.378750",
     "status": "completed"
    },
    "tags": []
   },
   "source": [
    "Most of the complaints were received on Thursday and Wednesday.\n",
    "\n",
    "### Companies which gave explanation for issues encountered"
   ]
  },
  {
   "cell_type": "code",
   "execution_count": 17,
   "id": "ac4eeeb3",
   "metadata": {
    "execution": {
     "iopub.execute_input": "2024-09-10T10:57:51.415440Z",
     "iopub.status.busy": "2024-09-10T10:57:51.415025Z",
     "iopub.status.idle": "2024-09-10T10:57:51.449049Z",
     "shell.execute_reply": "2024-09-10T10:57:51.448034Z"
    },
    "papermill": {
     "duration": 0.049321,
     "end_time": "2024-09-10T10:57:51.451419",
     "exception": false,
     "start_time": "2024-09-10T10:57:51.402098",
     "status": "completed"
    },
    "tags": []
   },
   "outputs": [
    {
     "data": {
      "text/plain": [
       "Company\n",
       "Bank of America                                         3188\n",
       "Wells Fargo & Company                                   3179\n",
       "JPMorgan Chase & Co.                                    2325\n",
       "Ocwen                                                   2285\n",
       "Nationstar Mortgage                                     1775\n",
       "                                                        ... \n",
       "First Financial Resources, Inc.                            1\n",
       "Quantum Accounts Receivable Management Services Inc.       1\n",
       "First Direct Lending, LLC                                  1\n",
       "First Continental Mortgage, Ltd                            1\n",
       "iServe Trust                                               1\n",
       "Name: Company Response to Consumer, Length: 1555, dtype: int64"
      ]
     },
     "execution_count": 17,
     "metadata": {},
     "output_type": "execute_result"
    }
   ],
   "source": [
    "response_df = df[['Company', 'Company Response to Consumer']]\n",
    "group_response = df[df['Company Response to Consumer']== 'Closed with explanation'].groupby('Company')['Company Response to Consumer'].count()\n",
    "group_response.sort_values(ascending = False)"
   ]
  },
  {
   "cell_type": "markdown",
   "id": "c5a23a61",
   "metadata": {
    "papermill": {
     "duration": 0.011661,
     "end_time": "2024-09-10T10:57:51.475093",
     "exception": false,
     "start_time": "2024-09-10T10:57:51.463432",
     "status": "completed"
    },
    "tags": []
   },
   "source": [
    "### The number of complaints submitted by each medium"
   ]
  },
  {
   "cell_type": "code",
   "execution_count": 18,
   "id": "dc01578d",
   "metadata": {
    "execution": {
     "iopub.execute_input": "2024-09-10T10:57:51.500749Z",
     "iopub.status.busy": "2024-09-10T10:57:51.499958Z",
     "iopub.status.idle": "2024-09-10T10:57:51.511414Z",
     "shell.execute_reply": "2024-09-10T10:57:51.510479Z"
    },
    "papermill": {
     "duration": 0.026555,
     "end_time": "2024-09-10T10:57:51.513454",
     "exception": false,
     "start_time": "2024-09-10T10:57:51.486899",
     "status": "completed"
    },
    "tags": []
   },
   "outputs": [
    {
     "data": {
      "text/plain": [
       "Submitted via\n",
       "Web            31033\n",
       "Referral        8121\n",
       "Phone           4009\n",
       "Postal mail     2069\n",
       "Fax              701\n",
       "Email             12\n",
       "Name: count, dtype: int64"
      ]
     },
     "execution_count": 18,
     "metadata": {},
     "output_type": "execute_result"
    }
   ],
   "source": [
    "df['Submitted via'].value_counts()"
   ]
  },
  {
   "cell_type": "markdown",
   "id": "5632e3b1",
   "metadata": {
    "papermill": {
     "duration": 0.011827,
     "end_time": "2024-09-10T10:57:51.537294",
     "exception": false,
     "start_time": "2024-09-10T10:57:51.525467",
     "status": "completed"
    },
    "tags": []
   },
   "source": [
    "Majority of the complaints were submitted through the web.\n",
    "\n",
    "\n",
    "## Data Visualization\n",
    "### Timely Response Received On Each Day Of The Week\n"
   ]
  },
  {
   "cell_type": "code",
   "execution_count": 19,
   "id": "46b18c15",
   "metadata": {
    "execution": {
     "iopub.execute_input": "2024-09-10T10:57:51.563274Z",
     "iopub.status.busy": "2024-09-10T10:57:51.562520Z",
     "iopub.status.idle": "2024-09-10T10:57:51.860708Z",
     "shell.execute_reply": "2024-09-10T10:57:51.859607Z"
    },
    "papermill": {
     "duration": 0.314118,
     "end_time": "2024-09-10T10:57:51.863394",
     "exception": false,
     "start_time": "2024-09-10T10:57:51.549276",
     "status": "completed"
    },
    "tags": []
   },
   "outputs": [
    {
     "data": {
      "image/png": "[encoded data removed]",
      "text/plain": [
       "<Figure size 640x480 with 1 Axes>"
      ]
     },
     "metadata": {},
     "output_type": "display_data"
    }
   ],
   "source": [
    "df['Date Sent to Company'] = pd.to_datetime(df['Date Sent to Company'])\n",
    "df['Day Of Date Sent'] = df['Date Sent to Company'].dt.day_name()\n",
    "timely_res_data = df[df['Timely Response'] == 'Yes']\n",
    "timely_res_day = timely_res_data['Day Of Date Sent'].value_counts()\n",
    "timely_res_day = timely_res_day.reset_index()\n",
    "\n",
    "plt.pie(x = 'count', labels = 'Day Of Date Sent', data = timely_res_day, autopct = '%1.1f%%')\n",
    "\n",
    "plt.title('Timely Responses Received On Each Day Of The Week')\n",
    "plt.show()"
   ]
  },
  {
   "cell_type": "markdown",
   "id": "06256167",
   "metadata": {
    "execution": {
     "iopub.execute_input": "2024-08-17T07:34:49.553453Z",
     "iopub.status.busy": "2024-08-17T07:34:49.552953Z",
     "iopub.status.idle": "2024-08-17T07:34:49.566324Z",
     "shell.execute_reply": "2024-08-17T07:34:49.565114Z",
     "shell.execute_reply.started": "2024-08-17T07:34:49.553417Z"
    },
    "papermill": {
     "duration": 0.012492,
     "end_time": "2024-09-10T10:57:51.888868",
     "exception": false,
     "start_time": "2024-09-10T10:57:51.876376",
     "status": "completed"
    },
    "tags": []
   },
   "source": [
    "### Proportion Of Complaints Based On Products"
   ]
  },
  {
   "cell_type": "code",
   "execution_count": 20,
   "id": "4aa7d2a6",
   "metadata": {
    "execution": {
     "iopub.execute_input": "2024-09-10T10:57:51.916264Z",
     "iopub.status.busy": "2024-09-10T10:57:51.915870Z",
     "iopub.status.idle": "2024-09-10T10:57:52.190539Z",
     "shell.execute_reply": "2024-09-10T10:57:52.189535Z"
    },
    "papermill": {
     "duration": 0.290879,
     "end_time": "2024-09-10T10:57:52.192774",
     "exception": false,
     "start_time": "2024-09-10T10:57:51.901895",
     "status": "completed"
    },
    "tags": []
   },
   "outputs": [
    {
     "data": {
      "image/png": "[encoded data removed]",
      "text/plain": [
       "<Figure size 640x480 with 1 Axes>"
      ]
     },
     "metadata": {},
     "output_type": "display_data"
    }
   ],
   "source": [
    "pro_comp = df['Product Name'].value_counts()\n",
    "product_complaints = pro_comp.reset_index()\n",
    "\n",
    "product_complaints.plot(kind = 'barh', x = 'Product Name', y = 'count')\n",
    "\n",
    "plt.xlabel('Number Of Complaints')\n",
    "plt.ylabel('Product')\n",
    "plt.title('Proportion Of Complaints Based On Products')\n",
    "plt.show()"
   ]
  },
  {
   "cell_type": "markdown",
   "id": "ba2b8757",
   "metadata": {
    "execution": {
     "iopub.execute_input": "2024-08-17T07:57:45.473149Z",
     "iopub.status.busy": "2024-08-17T07:57:45.472762Z",
     "iopub.status.idle": "2024-08-17T07:57:45.484889Z",
     "shell.execute_reply": "2024-08-17T07:57:45.483630Z",
     "shell.execute_reply.started": "2024-08-17T07:57:45.473120Z"
    },
    "papermill": {
     "duration": 0.01298,
     "end_time": "2024-09-10T10:57:52.219280",
     "exception": false,
     "start_time": "2024-09-10T10:57:52.206300",
     "status": "completed"
    },
    "tags": []
   },
   "source": [
    "### Top 10 Companies With The Most Complaints Received"
   ]
  },
  {
   "cell_type": "code",
   "execution_count": 21,
   "id": "de287f7a",
   "metadata": {
    "execution": {
     "iopub.execute_input": "2024-09-10T10:57:52.253434Z",
     "iopub.status.busy": "2024-09-10T10:57:52.253029Z",
     "iopub.status.idle": "2024-09-10T10:57:52.529272Z",
     "shell.execute_reply": "2024-09-10T10:57:52.528197Z"
    },
    "papermill": {
     "duration": 0.297263,
     "end_time": "2024-09-10T10:57:52.532039",
     "exception": false,
     "start_time": "2024-09-10T10:57:52.234776",
     "status": "completed"
    },
    "tags": []
   },
   "outputs": [
    {
     "data": {
      "image/png": "[encoded data removed]",
      "text/plain": [
       "<Figure size 640x480 with 1 Axes>"
      ]
     },
     "metadata": {},
     "output_type": "display_data"
    }
   ],
   "source": [
    "company_summary = df['Company'].value_counts()\n",
    "company_summary = company_summary.reset_index()\n",
    "company_summary.sort_values(by= 'count', ascending = False, inplace = True)\n",
    "top10_comp = company_summary.head(10)\n",
    "\n",
    "plt.bar(data = top10_comp, x = 'Company',  height = 'count')\n",
    "\n",
    "plt.xlabel('Company')\n",
    "plt.ylabel('Number Of Complaints')\n",
    "plt.title('Top 10 Companies With The Most Complaints Received')\n",
    "plt.xticks(rotation = 90)\n",
    "plt.show()"
   ]
  },
  {
   "cell_type": "markdown",
   "id": "ae20cedd",
   "metadata": {
    "papermill": {
     "duration": 0.017589,
     "end_time": "2024-09-10T10:57:52.568313",
     "exception": false,
     "start_time": "2024-09-10T10:57:52.550724",
     "status": "completed"
    },
    "tags": []
   },
   "source": [
    "### Number Of Complaints Made On Each Bank Of America's Products"
   ]
  },
  {
   "cell_type": "code",
   "execution_count": 22,
   "id": "377a07c1",
   "metadata": {
    "execution": {
     "iopub.execute_input": "2024-09-10T10:57:52.602383Z",
     "iopub.status.busy": "2024-09-10T10:57:52.601970Z",
     "iopub.status.idle": "2024-09-10T10:57:52.895370Z",
     "shell.execute_reply": "2024-09-10T10:57:52.894374Z"
    },
    "papermill": {
     "duration": 0.313372,
     "end_time": "2024-09-10T10:57:52.897598",
     "exception": false,
     "start_time": "2024-09-10T10:57:52.584226",
     "status": "completed"
    },
    "tags": []
   },
   "outputs": [
    {
     "data": {
      "image/png": "[encoded data removed]",
      "text/plain": [
       "<Figure size 640x480 with 1 Axes>"
      ]
     },
     "metadata": {},
     "output_type": "display_data"
    }
   ],
   "source": [
    "boa_complaints = df[df['Company'] == 'Bank of America']\n",
    "boa_product_complaints = boa_complaints['Product Name'].value_counts().reset_index()\n",
    "\n",
    "boa_product_complaints.plot(kind = 'bar', x = 'Product Name', y = 'count')\n",
    "plt.xlabel('Product')\n",
    "plt.ylabel('Number Of Complaints')\n",
    "plt.title('Number Of Complaints Made On Each Bank Of America Products')\n",
    "plt.show()"
   ]
  },
  {
   "cell_type": "markdown",
   "id": "b2fe95b9",
   "metadata": {
    "execution": {
     "iopub.execute_input": "2024-08-17T14:55:22.411587Z",
     "iopub.status.busy": "2024-08-17T14:55:22.411133Z",
     "iopub.status.idle": "2024-08-17T14:55:22.426029Z",
     "shell.execute_reply": "2024-08-17T14:55:22.424642Z",
     "shell.execute_reply.started": "2024-08-17T14:55:22.411552Z"
    },
    "papermill": {
     "duration": 0.014844,
     "end_time": "2024-09-10T10:57:52.928240",
     "exception": false,
     "start_time": "2024-09-10T10:57:52.913396",
     "status": "completed"
    },
    "tags": []
   },
   "source": [
    "### Number Of Complaints Sent Through Each Medium"
   ]
  },
  {
   "cell_type": "code",
   "execution_count": 23,
   "id": "dd8d8391",
   "metadata": {
    "execution": {
     "iopub.execute_input": "2024-09-10T10:57:52.960882Z",
     "iopub.status.busy": "2024-09-10T10:57:52.960121Z",
     "iopub.status.idle": "2024-09-10T10:57:53.109253Z",
     "shell.execute_reply": "2024-09-10T10:57:53.108039Z"
    },
    "papermill": {
     "duration": 0.169595,
     "end_time": "2024-09-10T10:57:53.112632",
     "exception": false,
     "start_time": "2024-09-10T10:57:52.943037",
     "status": "completed"
    },
    "tags": []
   },
   "outputs": [
    {
     "data": {
      "image/png": "[encoded data removed]",
      "text/plain": [
       "<Figure size 640x480 with 1 Axes>"
      ]
     },
     "metadata": {},
     "output_type": "display_data"
    }
   ],
   "source": [
    "df_medium = df['Submitted via'].value_counts().reset_index()\n",
    "\n",
    "plt.pie(data = df_medium, labels = 'Submitted via', x = 'count', autopct = '%1.1f%%')\n",
    "plt.title('Number Of Complaints Sent Through Each Medium')\n",
    "plt.show()"
   ]
  },
  {
   "cell_type": "markdown",
   "id": "82237458",
   "metadata": {
    "execution": {
     "iopub.execute_input": "2024-08-17T14:58:22.728241Z",
     "iopub.status.busy": "2024-08-17T14:58:22.727793Z",
     "iopub.status.idle": "2024-08-17T14:58:22.754287Z",
     "shell.execute_reply": "2024-08-17T14:58:22.752989Z",
     "shell.execute_reply.started": "2024-08-17T14:58:22.728206Z"
    },
    "papermill": {
     "duration": 0.02505,
     "end_time": "2024-09-10T10:57:53.162996",
     "exception": false,
     "start_time": "2024-09-10T10:57:53.137946",
     "status": "completed"
    },
    "tags": []
   },
   "source": [
    "### Proportion Of Times Consumer Disputed and Not"
   ]
  },
  {
   "cell_type": "code",
   "execution_count": 24,
   "id": "18fd464b",
   "metadata": {
    "execution": {
     "iopub.execute_input": "2024-09-10T10:57:53.206499Z",
     "iopub.status.busy": "2024-09-10T10:57:53.206135Z",
     "iopub.status.idle": "2024-09-10T10:57:53.344235Z",
     "shell.execute_reply": "2024-09-10T10:57:53.343117Z"
    },
    "papermill": {
     "duration": 0.158035,
     "end_time": "2024-09-10T10:57:53.347285",
     "exception": false,
     "start_time": "2024-09-10T10:57:53.189250",
     "status": "completed"
    },
    "tags": []
   },
   "outputs": [
    {
     "data": {
      "image/png": "[encoded data removed]",
      "text/plain": [
       "<Figure size 640x480 with 1 Axes>"
      ]
     },
     "metadata": {},
     "output_type": "display_data"
    }
   ],
   "source": [
    "dispute_summary = df['Consumer Disputed'].value_counts()\n",
    "\n",
    "dispute_summary.plot(kind = 'pie',label = 'Consumer Disputed', y = 'count', autopct = '%1.1f%%')\n",
    "plt.title('Proportion Of Times Consumer Disputed and Not')\n",
    "plt.show()"
   ]
  },
  {
   "cell_type": "markdown",
   "id": "13416d54",
   "metadata": {
    "papermill": {
     "duration": 0.025779,
     "end_time": "2024-09-10T10:57:53.399904",
     "exception": false,
     "start_time": "2024-09-10T10:57:53.374125",
     "status": "completed"
    },
    "tags": []
   },
   "source": [
    "### Correlation Between Dispute Occurence and Timely Response"
   ]
  },
  {
   "cell_type": "code",
   "execution_count": 25,
   "id": "7ee70ab6",
   "metadata": {
    "execution": {
     "iopub.execute_input": "2024-09-10T10:57:53.438179Z",
     "iopub.status.busy": "2024-09-10T10:57:53.437816Z",
     "iopub.status.idle": "2024-09-10T10:59:29.069275Z",
     "shell.execute_reply": "2024-09-10T10:59:29.067922Z"
    },
    "papermill": {
     "duration": 95.667271,
     "end_time": "2024-09-10T10:59:29.088002",
     "exception": false,
     "start_time": "2024-09-10T10:57:53.420731",
     "status": "completed"
    },
    "tags": []
   },
   "outputs": [
    {
     "name": "stderr",
     "output_type": "stream",
     "text": [
      "/tmp/ipykernel_18/2962494862.py:1: FutureWarning: DataFrame.applymap has been deprecated. Use DataFrame.map instead.\n",
      "  dispute_timely_numeric = df[['Consumer Disputed','Timely Response']].applymap(lambda x: 1 if x == 'Yes' else 0)\n"
     ]
    },
    {
     "data": {
      "image/png": "[encoded data removed]",
      "text/plain": [
       "<Figure size 640x480 with 1 Axes>"
      ]
     },
     "metadata": {},
     "output_type": "display_data"
    }
   ],
   "source": [
    "dispute_timely_numeric = df[['Consumer Disputed','Timely Response']].applymap(lambda x: 1 if x == 'Yes' else 0)\n",
    "sns.regplot(x = 'Consumer Disputed', y = 'Timely Response', data = dispute_timely_numeric, logistic = True)\n",
    "\n",
    "plt.xlabel('Consumer Disputed')\n",
    "plt.ylabel('Timely Response')\n",
    "plt.title('Relationship Between Number Of Disputes and Timely Response')\n",
    "plt.show()"
   ]
  },
  {
   "cell_type": "code",
   "execution_count": null,
   "id": "e2125eaf",
   "metadata": {
    "papermill": {
     "duration": 0.016048,
     "end_time": "2024-09-10T10:59:29.120416",
     "exception": false,
     "start_time": "2024-09-10T10:59:29.104368",
     "status": "completed"
    },
    "tags": []
   },
   "outputs": [],
   "source": []
  }
 ],
 "metadata": {
  "kaggle": {
   "accelerator": "none",
   "dataSources": [
    {
     "datasetId": 5500444,
     "sourceId": 9112989,
     "sourceType": "datasetVersion"
    }
   ],
   "dockerImageVersionId": 30746,
   "isGpuEnabled": false,
   "isInternetEnabled": true,
   "language": "python",
   "sourceType": "notebook"
  },
  "kernelspec": {
   "display_name": "Python 3",
   "language": "python",
   "name": "python3"
  },
  "language_info": {
   "codemirror_mode": {
    "name": "ipython",
    "version": 3
   },
   "file_extension": ".py",
   "mimetype": "text/x-python",
   "name": "python",
   "nbconvert_exporter": "python",
   "pygments_lexer": "ipython3",
   "version": "3.10.13"
  },
  "papermill": {
   "default_parameters": {},
   "duration": 105.261232,
   "end_time": "2024-09-10T10:59:29.757358",
   "environment_variables": {},
   "exception": null,
   "input_path": "__notebook__.ipynb",
   "output_path": "__notebook__.ipynb",
   "parameters": {},
   "start_time": "2024-09-10T10:57:44.496126",
   "version": "2.5.0"
  }
 },
 "nbformat": 4,
 "nbformat_minor": 5
}
